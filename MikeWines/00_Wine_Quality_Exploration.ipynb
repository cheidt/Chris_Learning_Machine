{
 "cells": [
  {
   "cell_type": "markdown",
   "metadata": {},
   "source": [
    "# Data Set Description\n",
    "Citation Request:\n",
    "\n",
    "This dataset is public available for research. The details are described in [Cortez et al., 2009]. \n",
    "Please include this citation if you plan to use this database:\n",
    "\n",
    "P. Cortez, A. Cerdeira, F. Almeida, T. Matos and J. Reis. \n",
    "Modeling wine preferences by data mining from physicochemical properties.\n",
    "In Decision Support Systems, Elsevier, 47(4):547* 553. ISSN: 0167* 9236.\n",
    "\n",
    "Available at: \n",
    "- [Elsevier](http://dx.doi.org/10.1016/j.dss.2009.05.016)\n",
    "- [Pre* press](http://www3.dsi.uminho.pt/pcortez/winequality09.pdf)\n",
    "- [bib](http://www3.dsi.uminho.pt/pcortez/dss09.bib)\n",
    "\n",
    "- Sources\n",
    "Created by: Paulo Cortez (Univ. Minho), Antonio Cerdeira, Fernando Almeida, Telmo Matos and Jose Reis (CVRVV) @ 2009\n",
    "   \n",
    "- Past Usage:\n",
    "\n",
    "P. Cortez, A. Cerdeira, F. Almeida, T. Matos and J. Reis. \n",
    "Modeling wine preferences by data mining from physicochemical properties.\n",
    "In Decision Support Systems, Elsevier, 47(4):547* 553. ISSN: 0167-9236.\n",
    "\n",
    "In the above reference, two datasets were created, using red and white wine samples.\n",
    "The inputs include objective tests (e.g. PH values) and the output is based on sensory data\n",
    "(median of at least 3 evaluations made by wine experts). Each expert graded the wine quality \n",
    "between 0 (very bad) and 10 (very excellent). Several data mining methods were applied to model\n",
    "these datasets under a regression approach. The support vector machine model achieved the\n",
    "best results. Several metrics were computed: MAD, confusion matrix for a fixed error tolerance (T),\n",
    "etc. Also, we plot the relative importances of the input variables (as measured by a sensitivity\n",
    "analysis procedure).\n",
    " \n",
    "Relevant Information:\n",
    "\n",
    "The two datasets are related to red and white variants of the Portuguese \"Vinho Verde\" wine.\n",
    "For more details, consult: http://www.vinhoverde.pt/en/ or the reference [Cortez et al., 2009].\n",
    "Due to privacy and logistic issues, only physicochemical (inputs) and sensory (the output) variables \n",
    "are available (e.g. there is no data about grape types, wine brand, wine selling price, etc.).\n",
    "\n",
    "These datasets can be viewed as classification or regression tasks.\n",
    "The classes are ordered and not balanced (e.g. there are munch more normal wines than\n",
    "excellent or poor ones). Outlier detection algorithms could be used to detect the few excellent\n",
    "or poor wines. Also, we are not sure if all input variables are relevant. So\n",
    "it could be interesting to test feature selection methods. \n",
    "\n",
    "- Number of Instances: red wine - 1599; white wine - 4898. \n",
    "- Number of Attributes: 11 + output attribute\n",
    "  \n",
    "Note: several of the attributes may be correlated, thus it makes sense to apply some sort of\n",
    "feature selection.\n",
    "\n",
    "- Attribute information:\n",
    "\n",
    "For more information, read Cortez et al., 2009.\n",
    "\n",
    "\n",
    "# Variables\n",
    "\n",
    "## Features\n",
    "\n",
    "- fixed acidity\n",
    "- volatile acidity\n",
    "- citric acid\n",
    "- residual sugar\n",
    "- chlorides\n",
    "- free sulfur dioxide\n",
    "- total sulfur dioxide\n",
    "- density\n",
    "- pH\n",
    "- sulphates\n",
    "- alcohol\n",
    "\n",
    "## Target\n",
    "- quality (score between 0 and 10)"
   ]
  },
  {
   "cell_type": "markdown",
   "metadata": {
    "collapsed": true
   },
   "source": [
    "# Analysis Introduction\n"
   ]
  },
  {
   "cell_type": "markdown",
   "metadata": {},
   "source": [
    "Given the feature set, I can think of a few different analysis tasks one could do:\n",
    "    \n",
    "- Given a feature set, can you predict whether or not a wine is read or white?\n",
    "- Can you classify a wine by quality given a feature set?\n",
    "- Can you predict the alcohol in a wine?"
   ]
  },
  {
   "cell_type": "markdown",
   "metadata": {},
   "source": [
    "# Data Exploration"
   ]
  },
  {
   "cell_type": "code",
   "execution_count": 2,
   "metadata": {
    "ExecuteTime": {
     "end_time": "2017-09-14T20:01:08.852415Z",
     "start_time": "2017-09-14T20:01:08.848653Z"
    },
    "collapsed": true
   },
   "outputs": [],
   "source": [
    "import matplotlib.pyplot as plt\n",
    "import matplotlib as mpl\n",
    "import pandas as pd\n",
    "import numpy as np\n",
    "import scipy as sp"
   ]
  },
  {
   "cell_type": "markdown",
   "metadata": {},
   "source": [
    "## Load the Data, Check The Data, Merge White & Red Wines\n",
    "White wines will get a wine_type classification of 1, red wine will get a wine_type classification of 0."
   ]
  },
  {
   "cell_type": "code",
   "execution_count": 6,
   "metadata": {
    "ExecuteTime": {
     "end_time": "2017-09-14T20:03:10.144673Z",
     "start_time": "2017-09-14T20:03:10.132254Z"
    }
   },
   "outputs": [
    {
     "name": "stdout",
     "output_type": "stream",
     "text": [
      "./data/winequality-red.csv\n",
      "./data/winequality-white.csv\n"
     ]
    }
   ],
   "source": [
    "%%bash\n",
    "find ./data/*.csv "
   ]
  },
  {
   "cell_type": "code",
   "execution_count": 9,
   "metadata": {
    "ExecuteTime": {
     "end_time": "2017-09-14T20:03:47.513381Z",
     "start_time": "2017-09-14T20:03:47.497704Z"
    },
    "collapsed": true
   },
   "outputs": [],
   "source": [
    "wine_files = !find ./data | grep csv "
   ]
  },
  {
   "cell_type": "code",
   "execution_count": 10,
   "metadata": {
    "ExecuteTime": {
     "end_time": "2017-09-14T20:03:47.907731Z",
     "start_time": "2017-09-14T20:03:47.904415Z"
    }
   },
   "outputs": [
    {
     "name": "stdout",
     "output_type": "stream",
     "text": [
      "['./data/winequality-red.csv', './data/winequality-white.csv']\n"
     ]
    }
   ],
   "source": [
    "print(wine_files)"
   ]
  },
  {
   "cell_type": "code",
   "execution_count": 26,
   "metadata": {
    "ExecuteTime": {
     "end_time": "2017-09-14T20:11:33.342454Z",
     "start_time": "2017-09-14T20:11:33.322496Z"
    }
   },
   "outputs": [
    {
     "name": "stdout",
     "output_type": "stream",
     "text": [
      "White Wines 4898 Red Wines 1599\n"
     ]
    }
   ],
   "source": [
    "df_white = pd.read_csv('./data/winequality-white.csv', delimiter=';')\n",
    "df_red = pd.read_csv('./data/winequality-red.csv', delimiter=';')\n",
    "df_white['wine_type'] = 1\n",
    "df_red['wine_type'] = 0\n",
    "print(\"White Wines\", len(df_white), \"Red Wines\", len(df_red))\n",
    "wine_data = df_white.append(df_red)"
   ]
  },
  {
   "cell_type": "markdown",
   "metadata": {},
   "source": [
    "Cool, the data got loaded correctly! Lets check out the first bit of it!"
   ]
  },
  {
   "cell_type": "code",
   "execution_count": 24,
   "metadata": {
    "ExecuteTime": {
     "end_time": "2017-09-14T20:08:44.375654Z",
     "start_time": "2017-09-14T20:08:44.371256Z"
    }
   },
   "outputs": [
    {
     "data": {
      "text/plain": [
       "fixed acidity           float64\n",
       "volatile acidity        float64\n",
       "citric acid             float64\n",
       "residual sugar          float64\n",
       "chlorides               float64\n",
       "free sulfur dioxide     float64\n",
       "total sulfur dioxide    float64\n",
       "density                 float64\n",
       "pH                      float64\n",
       "sulphates               float64\n",
       "alcohol                 float64\n",
       "quality                   int64\n",
       "wine_type                 int64\n",
       "dtype: object"
      ]
     },
     "execution_count": 24,
     "metadata": {},
     "output_type": "execute_result"
    }
   ],
   "source": [
    "wine_data.dtypes"
   ]
  },
  {
   "cell_type": "code",
   "execution_count": 25,
   "metadata": {
    "ExecuteTime": {
     "end_time": "2017-09-14T20:08:56.988276Z",
     "start_time": "2017-09-14T20:08:56.978056Z"
    }
   },
   "outputs": [
    {
     "data": {
      "text/html": [
       "<div>\n",
       "<style>\n",
       "    .dataframe thead tr:only-child th {\n",
       "        text-align: right;\n",
       "    }\n",
       "\n",
       "    .dataframe thead th {\n",
       "        text-align: left;\n",
       "    }\n",
       "\n",
       "    .dataframe tbody tr th {\n",
       "        vertical-align: top;\n",
       "    }\n",
       "</style>\n",
       "<table border=\"1\" class=\"dataframe\">\n",
       "  <thead>\n",
       "    <tr style=\"text-align: right;\">\n",
       "      <th></th>\n",
       "      <th>0</th>\n",
       "      <th>1</th>\n",
       "      <th>2</th>\n",
       "      <th>3</th>\n",
       "      <th>4</th>\n",
       "    </tr>\n",
       "  </thead>\n",
       "  <tbody>\n",
       "    <tr>\n",
       "      <th>fixed acidity</th>\n",
       "      <td>7.000</td>\n",
       "      <td>6.300</td>\n",
       "      <td>8.1000</td>\n",
       "      <td>7.2000</td>\n",
       "      <td>7.2000</td>\n",
       "    </tr>\n",
       "    <tr>\n",
       "      <th>volatile acidity</th>\n",
       "      <td>0.270</td>\n",
       "      <td>0.300</td>\n",
       "      <td>0.2800</td>\n",
       "      <td>0.2300</td>\n",
       "      <td>0.2300</td>\n",
       "    </tr>\n",
       "    <tr>\n",
       "      <th>citric acid</th>\n",
       "      <td>0.360</td>\n",
       "      <td>0.340</td>\n",
       "      <td>0.4000</td>\n",
       "      <td>0.3200</td>\n",
       "      <td>0.3200</td>\n",
       "    </tr>\n",
       "    <tr>\n",
       "      <th>residual sugar</th>\n",
       "      <td>20.700</td>\n",
       "      <td>1.600</td>\n",
       "      <td>6.9000</td>\n",
       "      <td>8.5000</td>\n",
       "      <td>8.5000</td>\n",
       "    </tr>\n",
       "    <tr>\n",
       "      <th>chlorides</th>\n",
       "      <td>0.045</td>\n",
       "      <td>0.049</td>\n",
       "      <td>0.0500</td>\n",
       "      <td>0.0580</td>\n",
       "      <td>0.0580</td>\n",
       "    </tr>\n",
       "    <tr>\n",
       "      <th>free sulfur dioxide</th>\n",
       "      <td>45.000</td>\n",
       "      <td>14.000</td>\n",
       "      <td>30.0000</td>\n",
       "      <td>47.0000</td>\n",
       "      <td>47.0000</td>\n",
       "    </tr>\n",
       "    <tr>\n",
       "      <th>total sulfur dioxide</th>\n",
       "      <td>170.000</td>\n",
       "      <td>132.000</td>\n",
       "      <td>97.0000</td>\n",
       "      <td>186.0000</td>\n",
       "      <td>186.0000</td>\n",
       "    </tr>\n",
       "    <tr>\n",
       "      <th>density</th>\n",
       "      <td>1.001</td>\n",
       "      <td>0.994</td>\n",
       "      <td>0.9951</td>\n",
       "      <td>0.9956</td>\n",
       "      <td>0.9956</td>\n",
       "    </tr>\n",
       "    <tr>\n",
       "      <th>pH</th>\n",
       "      <td>3.000</td>\n",
       "      <td>3.300</td>\n",
       "      <td>3.2600</td>\n",
       "      <td>3.1900</td>\n",
       "      <td>3.1900</td>\n",
       "    </tr>\n",
       "    <tr>\n",
       "      <th>sulphates</th>\n",
       "      <td>0.450</td>\n",
       "      <td>0.490</td>\n",
       "      <td>0.4400</td>\n",
       "      <td>0.4000</td>\n",
       "      <td>0.4000</td>\n",
       "    </tr>\n",
       "    <tr>\n",
       "      <th>alcohol</th>\n",
       "      <td>8.800</td>\n",
       "      <td>9.500</td>\n",
       "      <td>10.1000</td>\n",
       "      <td>9.9000</td>\n",
       "      <td>9.9000</td>\n",
       "    </tr>\n",
       "    <tr>\n",
       "      <th>quality</th>\n",
       "      <td>6.000</td>\n",
       "      <td>6.000</td>\n",
       "      <td>6.0000</td>\n",
       "      <td>6.0000</td>\n",
       "      <td>6.0000</td>\n",
       "    </tr>\n",
       "    <tr>\n",
       "      <th>wine_type</th>\n",
       "      <td>1.000</td>\n",
       "      <td>1.000</td>\n",
       "      <td>1.0000</td>\n",
       "      <td>1.0000</td>\n",
       "      <td>1.0000</td>\n",
       "    </tr>\n",
       "  </tbody>\n",
       "</table>\n",
       "</div>"
      ],
      "text/plain": [
       "                            0        1        2         3         4\n",
       "fixed acidity           7.000    6.300   8.1000    7.2000    7.2000\n",
       "volatile acidity        0.270    0.300   0.2800    0.2300    0.2300\n",
       "citric acid             0.360    0.340   0.4000    0.3200    0.3200\n",
       "residual sugar         20.700    1.600   6.9000    8.5000    8.5000\n",
       "chlorides               0.045    0.049   0.0500    0.0580    0.0580\n",
       "free sulfur dioxide    45.000   14.000  30.0000   47.0000   47.0000\n",
       "total sulfur dioxide  170.000  132.000  97.0000  186.0000  186.0000\n",
       "density                 1.001    0.994   0.9951    0.9956    0.9956\n",
       "pH                      3.000    3.300   3.2600    3.1900    3.1900\n",
       "sulphates               0.450    0.490   0.4400    0.4000    0.4000\n",
       "alcohol                 8.800    9.500  10.1000    9.9000    9.9000\n",
       "quality                 6.000    6.000   6.0000    6.0000    6.0000\n",
       "wine_type               1.000    1.000   1.0000    1.0000    1.0000"
      ]
     },
     "execution_count": 25,
     "metadata": {},
     "output_type": "execute_result"
    }
   ],
   "source": [
    "wine_data.head().transpose()"
   ]
  },
  {
   "cell_type": "markdown",
   "metadata": {},
   "source": [
    "Awesome! We have a 100% numeric data set. What a dream! We can do anything we fucking want! First step is to look at the the distribution of features. Since white wines were separated from red wines, I'll separate the distribution visualization along that category to see if the feature distribution of white vs red is so different that visually can be differentiated. Secondly, we should be aware that there is a pretty significant class imbalance between white wines (much more) and red wines (much less)"
   ]
  },
  {
   "cell_type": "code",
   "execution_count": null,
   "metadata": {
    "collapsed": true
   },
   "outputs": [],
   "source": []
  }
 ],
 "metadata": {
  "kernelspec": {
   "display_name": "Python 3",
   "language": "python",
   "name": "python3"
  },
  "language_info": {
   "codemirror_mode": {
    "name": "ipython",
    "version": 3
   },
   "file_extension": ".py",
   "mimetype": "text/x-python",
   "name": "python",
   "nbconvert_exporter": "python",
   "pygments_lexer": "ipython3",
   "version": "3.6.0"
  },
  "toc": {
   "colors": {
    "hover_highlight": "#DAA520",
    "running_highlight": "#FF0000",
    "selected_highlight": "#FFD700"
   },
   "moveMenuLeft": true,
   "nav_menu": {
    "height": "31px",
    "width": "253px"
   },
   "navigate_menu": true,
   "number_sections": true,
   "sideBar": true,
   "threshold": 4,
   "toc_cell": false,
   "toc_section_display": "block",
   "toc_window_display": false,
   "widenNotebook": false
  }
 },
 "nbformat": 4,
 "nbformat_minor": 2
}
